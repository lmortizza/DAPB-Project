{
 "cells": [
  {
   "cell_type": "markdown",
   "id": "b815ca90",
   "metadata": {},
   "source": [
    "# Part 1"
   ]
  },
  {
   "cell_type": "markdown",
   "id": "b7383bea",
   "metadata": {},
   "source": [
    "## Question 1"
   ]
  },
  {
   "cell_type": "markdown",
   "id": "1ee208ca",
   "metadata": {},
   "source": [
    "## Python Implementation "
   ]
  },
  {
   "cell_type": "code",
   "execution_count": 39,
   "id": "b71971e4",
   "metadata": {},
   "outputs": [],
   "source": [
    "#importing necessary libraries\n",
    "from itertools import product\n",
    "from math import sqrt\n",
    "\n",
    "import numpy as np\n",
    "import pandas as pd\n",
    "\n",
    "import gurobipy as gp\n",
    "from gurobipy import GRB\n",
    "\n",
    "import matplotlib.pyplot as plt\n",
    "\n",
    "from scipy.integrate import odeint\n"
   ]
  },
  {
   "cell_type": "markdown",
   "id": "8b19fcac",
   "metadata": {},
   "source": [
    "### Import data"
   ]
  },
  {
   "cell_type": "code",
   "execution_count": 40,
   "id": "7493f7dc",
   "metadata": {},
   "outputs": [],
   "source": [
    "states = pd.read_csv(\"us-states.csv\")\n"
   ]
  },
  {
   "cell_type": "code",
   "execution_count": 41,
   "id": "e761ecc5",
   "metadata": {
    "scrolled": false
   },
   "outputs": [
    {
     "data": {
      "text/html": [
       "<div>\n",
       "<style scoped>\n",
       "    .dataframe tbody tr th:only-of-type {\n",
       "        vertical-align: middle;\n",
       "    }\n",
       "\n",
       "    .dataframe tbody tr th {\n",
       "        vertical-align: top;\n",
       "    }\n",
       "\n",
       "    .dataframe thead th {\n",
       "        text-align: right;\n",
       "    }\n",
       "</style>\n",
       "<table border=\"1\" class=\"dataframe\">\n",
       "  <thead>\n",
       "    <tr style=\"text-align: right;\">\n",
       "      <th></th>\n",
       "      <th>date</th>\n",
       "      <th>state</th>\n",
       "      <th>fips</th>\n",
       "      <th>cases</th>\n",
       "      <th>deaths</th>\n",
       "    </tr>\n",
       "  </thead>\n",
       "  <tbody>\n",
       "    <tr>\n",
       "      <th>98</th>\n",
       "      <td>2020-02-12</td>\n",
       "      <td>Texas</td>\n",
       "      <td>48</td>\n",
       "      <td>1</td>\n",
       "      <td>0</td>\n",
       "    </tr>\n",
       "    <tr>\n",
       "      <th>105</th>\n",
       "      <td>2020-02-13</td>\n",
       "      <td>Texas</td>\n",
       "      <td>48</td>\n",
       "      <td>2</td>\n",
       "      <td>0</td>\n",
       "    </tr>\n",
       "    <tr>\n",
       "      <th>112</th>\n",
       "      <td>2020-02-14</td>\n",
       "      <td>Texas</td>\n",
       "      <td>48</td>\n",
       "      <td>2</td>\n",
       "      <td>0</td>\n",
       "    </tr>\n",
       "    <tr>\n",
       "      <th>119</th>\n",
       "      <td>2020-02-15</td>\n",
       "      <td>Texas</td>\n",
       "      <td>48</td>\n",
       "      <td>2</td>\n",
       "      <td>0</td>\n",
       "    </tr>\n",
       "    <tr>\n",
       "      <th>126</th>\n",
       "      <td>2020-02-16</td>\n",
       "      <td>Texas</td>\n",
       "      <td>48</td>\n",
       "      <td>2</td>\n",
       "      <td>0</td>\n",
       "    </tr>\n",
       "    <tr>\n",
       "      <th>...</th>\n",
       "      <td>...</td>\n",
       "      <td>...</td>\n",
       "      <td>...</td>\n",
       "      <td>...</td>\n",
       "      <td>...</td>\n",
       "    </tr>\n",
       "    <tr>\n",
       "      <th>42389</th>\n",
       "      <td>2022-04-08</td>\n",
       "      <td>Texas</td>\n",
       "      <td>48</td>\n",
       "      <td>6701901</td>\n",
       "      <td>87747</td>\n",
       "    </tr>\n",
       "    <tr>\n",
       "      <th>42445</th>\n",
       "      <td>2022-04-09</td>\n",
       "      <td>Texas</td>\n",
       "      <td>48</td>\n",
       "      <td>6704457</td>\n",
       "      <td>87796</td>\n",
       "    </tr>\n",
       "    <tr>\n",
       "      <th>42501</th>\n",
       "      <td>2022-04-10</td>\n",
       "      <td>Texas</td>\n",
       "      <td>48</td>\n",
       "      <td>6705329</td>\n",
       "      <td>87796</td>\n",
       "    </tr>\n",
       "    <tr>\n",
       "      <th>42557</th>\n",
       "      <td>2022-04-11</td>\n",
       "      <td>Texas</td>\n",
       "      <td>48</td>\n",
       "      <td>6707045</td>\n",
       "      <td>87801</td>\n",
       "    </tr>\n",
       "    <tr>\n",
       "      <th>42613</th>\n",
       "      <td>2022-04-12</td>\n",
       "      <td>Texas</td>\n",
       "      <td>48</td>\n",
       "      <td>6709483</td>\n",
       "      <td>87843</td>\n",
       "    </tr>\n",
       "  </tbody>\n",
       "</table>\n",
       "<p>791 rows × 5 columns</p>\n",
       "</div>"
      ],
      "text/plain": [
       "             date  state  fips    cases  deaths\n",
       "98     2020-02-12  Texas    48        1       0\n",
       "105    2020-02-13  Texas    48        2       0\n",
       "112    2020-02-14  Texas    48        2       0\n",
       "119    2020-02-15  Texas    48        2       0\n",
       "126    2020-02-16  Texas    48        2       0\n",
       "...           ...    ...   ...      ...     ...\n",
       "42389  2022-04-08  Texas    48  6701901   87747\n",
       "42445  2022-04-09  Texas    48  6704457   87796\n",
       "42501  2022-04-10  Texas    48  6705329   87796\n",
       "42557  2022-04-11  Texas    48  6707045   87801\n",
       "42613  2022-04-12  Texas    48  6709483   87843\n",
       "\n",
       "[791 rows x 5 columns]"
      ]
     },
     "execution_count": 41,
     "metadata": {},
     "output_type": "execute_result"
    }
   ],
   "source": [
    "texas_index = states[\"state\"] == 'Texas'\n",
    "texas = states[texas_index]\n",
    "texas"
   ]
  },
  {
   "cell_type": "code",
   "execution_count": 42,
   "id": "a953189f",
   "metadata": {},
   "outputs": [
    {
     "data": {
      "text/plain": [
       "Text(0, 0.5, 'Case Count')"
      ]
     },
     "execution_count": 42,
     "metadata": {},
     "output_type": "execute_result"
    },
    {
     "data": {
      "image/png": "[encoded data removed]",
      "text/plain": [
       "<Figure size 432x288 with 1 Axes>"
      ]
     },
     "metadata": {
      "needs_background": "light"
     },
     "output_type": "display_data"
    }
   ],
   "source": [
    "#time period = days\n",
    "t = np.linspace(0, 791, 791)\n",
    "plt.plot(t, texas[\"cases\"])\n",
    "plt.title(\"Actual number of cases in Texas\")\n",
    "plt.xlabel(\"Day\")\n",
    "plt.ylabel(\"Case Count\")"
   ]
  },
  {
   "cell_type": "code",
   "execution_count": 43,
   "id": "ed046338",
   "metadata": {},
   "outputs": [
    {
     "name": "stderr",
     "output_type": "stream",
     "text": [
      "C:\\Users\\abisi\\AppData\\Local\\Temp/ipykernel_14424/985439890.py:5: SettingWithCopyWarning: \n",
      "A value is trying to be set on a copy of a slice from a DataFrame.\n",
      "Try using .loc[row_indexer,col_indexer] = value instead\n",
      "\n",
      "See the caveats in the documentation: https://pandas.pydata.org/pandas-docs/stable/user_guide/indexing.html#returning-a-view-versus-a-copy\n",
      "  texas[\"infected\"] = texas[\"cases\"] - x\n"
     ]
    },
    {
     "data": {
      "text/plain": [
       "Text(0, 0.5, 'Fraction of Population')"
      ]
     },
     "execution_count": 43,
     "metadata": {},
     "output_type": "execute_result"
    },
    {
     "data": {
      "image/png": "[encoded data removed]",
      "text/plain": [
       "<Figure size 432x288 with 1 Axes>"
      ]
     },
     "metadata": {
      "needs_background": "light"
     },
     "output_type": "display_data"
    }
   ],
   "source": [
    "x = list(texas[\"cases\"])\n",
    "for i in range(0,13):\n",
    "    x.insert(0,0)\n",
    "x = x[:-13]\n",
    "texas[\"infected\"] = texas[\"cases\"] - x\n",
    "plt.plot(t, texas[\"infected\"]/N)\n",
    "plt.title(\"Number of Infected in Texas\")\n",
    "plt.xlabel(\"Day\")\n",
    "plt.ylabel(\"Fraction of Population\")"
   ]
  },
  {
   "cell_type": "markdown",
   "id": "59c284a2",
   "metadata": {},
   "source": [
    "## Question 2"
   ]
  },
  {
   "cell_type": "markdown",
   "id": "d0f27259",
   "metadata": {},
   "source": [
    "### Parameters"
   ]
  },
  {
   "cell_type": "code",
   "execution_count": 44,
   "id": "ba6a6b63",
   "metadata": {},
   "outputs": [],
   "source": [
    "#time period = days\n",
    "t = np.linspace(0, 791, 791)\n",
    "\n",
    "#I[t] is the number of cases per day/true outcome\n",
    "I =  []\n",
    "for count in texas[\"cases\"]:\n",
    "    I.append(count)\n",
    "    \n",
    "#N: total population - taken from https://www.census.gov/quickfacts/TX\n",
    "N = 29527941"
   ]
  },
  {
   "cell_type": "code",
   "execution_count": 45,
   "id": "225a5816",
   "metadata": {},
   "outputs": [],
   "source": [
    "#parts of code taken from SIR.Extensions.ipynb from Canvas\n",
    "\n",
    "#number of infected people and recovered people initially\n",
    "#using same values as code. Assuming not very many people were infected in Texas, since outbreak started in Washington state\n",
    "I0 = 1\n",
    "\n",
    "#formula for estimating R0 taken from https://www.ncbi.nlm.nih.gov/pmc/articles/PMC7751056/\n",
    "        #  R0 = I[t] * SI / t , were SI is the time between the first and second COVID case\n",
    "        #second covid case data from \n",
    "R0 = 0\n",
    "\n",
    "#number  of people who are initially susceptible\n",
    "S0 = N - I0 - R0 \n",
    "\n",
    "# Initial vector\n",
    "y0 = S0, I0, R0\n",
    "\n",
    "# average recovery time is 2 weeks \n",
    "gamma = 1/14"
   ]
  },
  {
   "cell_type": "markdown",
   "id": "b90e94b7",
   "metadata": {},
   "source": [
    "### Model Engine"
   ]
  },
  {
   "cell_type": "code",
   "execution_count": 46,
   "id": "c4eda3a9",
   "metadata": {},
   "outputs": [],
   "source": [
    "#code taken from SIR.Extensions.ipynb from Canvas\n",
    "def deriv_dynamic(y, t, N, beta, gamma):\n",
    "    S, I, R = y\n",
    "    dSdt = -beta(t) * S * I / N\n",
    "    dIdt = beta(t) * S * I / N - gamma * I\n",
    "    dRdt = gamma * I\n",
    "    return dSdt, dIdt, dRdt"
   ]
  },
  {
   "cell_type": "code",
   "execution_count": 47,
   "id": "c9869feb",
   "metadata": {},
   "outputs": [],
   "source": [
    "#code below taken from SIR.Extensions.ipynb from Canvas\n",
    "#x0 = major outbreak occurs (state of emergency) = March 12\n",
    "\n",
    "#data looked at: https://www.worldometers.info/coronavirus/usa/texas/\n",
    "e = [0,150,200,250,340,370,400,500,557,580,610,640,660,700,708]\n",
    "R0 = [2.99,1,0.59,1.5,1.0,0.3,.88,1.9,1.22,1,.5,1.04,1.04,3.8,.7,0.4]\n",
    "x0 = [100,200,210,300,580,700,700,705,705,705,705,705,705,705,705]\n",
    "\n",
    "k=.01\n",
    "def dyn_R_0(time):\n",
    "    z = 0\n",
    "    for i in range(len(e)):\n",
    "        if time > e[i]:\n",
    "            R_start = R0[i]\n",
    "            R_end =  R0[i+1]\n",
    "            x = x0[i]\n",
    "            z = logistic_R_0(time, R_start, R_end, x)\n",
    "    return z\n",
    "\n",
    "def logistic_R_0(time, R_start, R_end, x0):\n",
    "    return (R_start-R_end) / (1 + np.exp(-k*(-time+x0))) + R_end\n",
    "\n",
    "def logistic_beta(time):\n",
    "    R0_list.append((time,dyn_R_0(time)))\n",
    "    return dyn_R_0(time) * gamma"
   ]
  },
  {
   "cell_type": "code",
   "execution_count": 48,
   "id": "a207866a",
   "metadata": {
    "scrolled": false
   },
   "outputs": [],
   "source": [
    "#code taken from SIR.Extensions.ipynb from Canvas\n",
    "R0_list = []\n",
    "ret = odeint(deriv_dynamic, y0, t,args=(N, logistic_beta, gamma))\n",
    "S, I, R = ret.T\n"
   ]
  },
  {
   "cell_type": "code",
   "execution_count": 49,
   "id": "f2994076",
   "metadata": {},
   "outputs": [
    {
     "data": {
      "text/plain": [
       "<matplotlib.legend.Legend at 0x1fa014b7850>"
      ]
     },
     "execution_count": 49,
     "metadata": {},
     "output_type": "execute_result"
    },
    {
     "data": {
      "image/png": "[encoded data removed]",
      "text/plain": [
       "<Figure size 432x288 with 1 Axes>"
      ]
     },
     "metadata": {},
     "output_type": "display_data"
    }
   ],
   "source": [
    "plt.figure(facecolor = 'w')\n",
    "plt.plot(t, I/N, 'r', label = \"simulated infected\")\n",
    "plt.plot(t, texas[\"infected\"]/N, label = \"actual infected\")\n",
    "\n",
    "plt.xlabel(\"Days\")\n",
    "plt.ylabel(\"Fraction of Population\")\n",
    "\n",
    "plt.legend()\n"
   ]
  },
  {
   "cell_type": "markdown",
   "id": "8054db9e",
   "metadata": {},
   "source": [
    "## Question 3 "
   ]
  },
  {
   "cell_type": "markdown",
   "id": "c93e3c74",
   "metadata": {},
   "source": [
    "### root mean square error"
   ]
  },
  {
   "cell_type": "code",
   "execution_count": 17,
   "id": "02989a8a",
   "metadata": {},
   "outputs": [],
   "source": [
    "def root_mean_square_error(x,y):\n",
    "    total = 0\n",
    "    N = len(x)\n",
    "    for i in range(len(x)):\n",
    "        dif = x[i] - y[i]\n",
    "        total = total + (dif**2)\n",
    "    return sqrt(total/N)\n",
    "     "
   ]
  },
  {
   "cell_type": "code",
   "execution_count": 18,
   "id": "5746cb5f",
   "metadata": {},
   "outputs": [],
   "source": [
    "actual_I = list(texas[\"infected\"])\n",
    "simulated_I = I "
   ]
  },
  {
   "cell_type": "code",
   "execution_count": 19,
   "id": "78a191ae",
   "metadata": {},
   "outputs": [
    {
     "name": "stdout",
     "output_type": "stream",
     "text": [
      "The root mean square error is: 31744.8\n"
     ]
    }
   ],
   "source": [
    "print(\"The root mean square error is:\", round(root_mean_square_error(actual_I, simulated_I),1))"
   ]
  },
  {
   "cell_type": "markdown",
   "id": "21f6173e",
   "metadata": {},
   "source": [
    "### mean absolute error"
   ]
  },
  {
   "cell_type": "code",
   "execution_count": 20,
   "id": "4390b753",
   "metadata": {},
   "outputs": [],
   "source": [
    "def mean_absolute_error(x,y):\n",
    "    total = 0\n",
    "    N = len(x)\n",
    "    for i in range(len(x)):\n",
    "        dif = x[i] - y[i]\n",
    "        total = total + abs(dif)\n",
    "    return total/N"
   ]
  },
  {
   "cell_type": "code",
   "execution_count": 21,
   "id": "99dec9d5",
   "metadata": {},
   "outputs": [
    {
     "name": "stdout",
     "output_type": "stream",
     "text": [
      "The mean absolute error is: 20210 2\n"
     ]
    }
   ],
   "source": [
    "print(\"The mean absolute error is:\", round(mean_absolute_error(actual_I, simulated_I)),2)"
   ]
  },
  {
   "cell_type": "markdown",
   "id": "bb4ab2a5",
   "metadata": {},
   "source": [
    "# Part 2"
   ]
  },
  {
   "cell_type": "markdown",
   "id": "b089353f",
   "metadata": {},
   "source": [
    "## Plotting changes in R0"
   ]
  },
  {
   "cell_type": "code",
   "execution_count": 22,
   "id": "ecc0be8e",
   "metadata": {},
   "outputs": [],
   "source": [
    "#cite: data from https://www.healthdata.org/covid/data-downloads\n",
    "\n",
    "#import data\n",
    "data_2020 = pd.read_csv(\"data_download_file_reference_2020.csv\")\n",
    "data_2021 = pd.read_csv(\"data_download_file_reference_2021.csv\")\n",
    "data_2022 = pd.read_csv(\"data_download_file_reference_2022.csv\")"
   ]
  },
  {
   "cell_type": "code",
   "execution_count": 23,
   "id": "67571e41",
   "metadata": {},
   "outputs": [],
   "source": [
    "#get data for only texas\n",
    "texas_2020_index = data_2020[\"location_name\"] == \"Texas\"\n",
    "texas_2021_index = data_2021[\"location_name\"] == \"Texas\"\n",
    "texas_2022_index = data_2022[\"location_name\"] == \"Texas\" \n",
    "\n",
    "texas_2020 = data_2020[texas_2020_index]\n",
    "#adjusting so dates match previous dataset\n",
    "texas_2020 = texas_2020.iloc[8:]\n",
    "texas_2021 = data_2021[texas_2021_index]\n",
    "texas_2022 = data_2022[texas_2022_index]\n",
    "#adjusting so dates match previous dataset\n",
    "texas_2022 = texas_2022.iloc[0:102]"
   ]
  },
  {
   "cell_type": "code",
   "execution_count": 24,
   "id": "1881308c",
   "metadata": {},
   "outputs": [],
   "source": [
    "mobility = []\n",
    "x = list(texas_2020[\"mobility_mean\"])\n",
    "y = list(texas_2021[\"mobility_mean\"])\n",
    "z = list(texas_2022[\"mobility_mean\"])\n",
    "\n",
    "for i in range(len(texas_2020)):\n",
    "    mobility.append(x[i])\n",
    "    \n",
    "for i in range(len(texas_2021)):\n",
    "    mobility.append(y[i])\n",
    "    \n",
    "for i in range(len(texas_2022)):\n",
    "    mobility.append(z[i])"
   ]
  },
  {
   "cell_type": "code",
   "execution_count": 25,
   "id": "62b41704",
   "metadata": {},
   "outputs": [],
   "source": [
    "mask_use = []\n",
    "\n",
    "x = list(texas_2020[\"mask_use_mean\"])\n",
    "y = list(texas_2021[\"mask_use_mean\"])\n",
    "z = list(texas_2022[\"mask_use_mean\"])\n",
    "\n",
    "for i in range(len(texas_2020)):\n",
    "    mask_use.append(x[i])\n",
    "    \n",
    "for i in range(len(texas_2021)):\n",
    "    mask_use.append(y[i])\n",
    "    \n",
    "for i in range(len(texas_2022)):\n",
    "    mask_use.append(z[i])"
   ]
  },
  {
   "cell_type": "code",
   "execution_count": 26,
   "id": "fec3ecc3",
   "metadata": {},
   "outputs": [],
   "source": [
    "testing = []\n",
    "\n",
    "x = list(texas_2020[\"testing_mean\"])\n",
    "y = list(texas_2021[\"testing_mean\"])\n",
    "z = list(texas_2022[\"testing_mean\"])\n",
    "\n",
    "for i in range(len(texas_2020)):\n",
    "    testing.append(x[i])\n",
    "    \n",
    "for i in range(len(texas_2021)):\n",
    "    testing.append(y[i])\n",
    "    \n",
    "for i in range(len(texas_2022)):\n",
    "    testing.append(z[i])"
   ]
  },
  {
   "cell_type": "code",
   "execution_count": 27,
   "id": "b73d2453",
   "metadata": {},
   "outputs": [],
   "source": [
    "vacc = []\n",
    "\n",
    "x = list(texas_2020[\"cumulative_all_effectively_vaccinated\"])\n",
    "y = list(texas_2021[\"cumulative_all_effectively_vaccinated\"])\n",
    "z = list(texas_2022[\"cumulative_all_effectively_vaccinated\"])\n",
    "\n",
    "for i in range(len(texas_2020)):\n",
    "    vacc.append(x[i])\n",
    "    \n",
    "for i in range(len(texas_2021)):\n",
    "    vacc.append(y[i])\n",
    "    \n",
    "for i in range(len(texas_2022)):\n",
    "    vacc.append(z[i])"
   ]
  },
  {
   "cell_type": "code",
   "execution_count": 96,
   "id": "1adb3c04",
   "metadata": {},
   "outputs": [
    {
     "data": {
      "text/plain": [
       "<matplotlib.collections.PathCollection at 0x1fa0385c7f0>"
      ]
     },
     "execution_count": 96,
     "metadata": {},
     "output_type": "execute_result"
    },
    {
     "data": {
      "image/png": "[encoded data removed]",
      "text/plain": [
       "<Figure size 432x288 with 1 Axes>"
      ]
     },
     "metadata": {
      "needs_background": "light"
     },
     "output_type": "display_data"
    }
   ],
   "source": [
    "t = range(0,791)\n",
    "plt.plot(t, mobility, 'r', label = \"mobility\")\n",
    "plt.title(\"% Change in Mobility\")\n",
    "plt.xlabel(\"day\")\n",
    "plt.ylabel(\"% Change in Mobility\")\n",
    "\n",
    "\n",
    "e = [0,150,200,250,340,370,400,500,557,580,610,640,660,700,708,800]\n",
    "R0 = [2.99,1,0.59,1.5,1.0,0.3,.88,1.9,1.22,1,.5,1.04,1.04,3.8,.7,0.4]\n",
    "\n",
    "x_datapoints = e\n",
    "y_datapoints = [-3.5 * r for r in R0]\n",
    "\n",
    "plt.scatter(x_datapoints,y_datapoints, label = \"R0 values\")"
   ]
  },
  {
   "cell_type": "code",
   "execution_count": 100,
   "id": "822673e6",
   "metadata": {},
   "outputs": [
    {
     "data": {
      "text/plain": [
       "<matplotlib.legend.Legend at 0x1fa0388e190>"
      ]
     },
     "execution_count": 100,
     "metadata": {},
     "output_type": "execute_result"
    },
    {
     "data": {
      "image/png": "[encoded data removed]",
      "text/plain": [
       "<Figure size 432x288 with 1 Axes>"
      ]
     },
     "metadata": {
      "needs_background": "light"
     },
     "output_type": "display_data"
    }
   ],
   "source": [
    "t = range(0,791)\n",
    "plt.plot(t, mask_use, 'r', label = \"mask - use\")\n",
    "plt.title(\"Mask Use\")\n",
    "plt.xlabel(\"day\")\n",
    "plt.ylabel(\"% of total population using a mask\")\n",
    "\n",
    "\n",
    "x_datapoints = e\n",
    "y_datapoints = [1 * r for r in R0]\n",
    "\n",
    "\n",
    "plt.scatter(x_datapoints,y_datapoints, label = \"R0 values\")\n",
    "plt.legend()"
   ]
  },
  {
   "cell_type": "code",
   "execution_count": 102,
   "id": "388c48ae",
   "metadata": {},
   "outputs": [
    {
     "data": {
      "text/plain": [
       "<matplotlib.legend.Legend at 0x1fa039f1d30>"
      ]
     },
     "execution_count": 102,
     "metadata": {},
     "output_type": "execute_result"
    },
    {
     "data": {
      "image/png": "[encoded data removed]",
      "text/plain": [
       "<Figure size 432x288 with 1 Axes>"
      ]
     },
     "metadata": {
      "needs_background": "light"
     },
     "output_type": "display_data"
    }
   ],
   "source": [
    "t = range(0,791)\n",
    "plt.plot(t, testing, 'r', label = \"tests\")\n",
    "plt.title(\"Tests (per 100,000)\")\n",
    "plt.xlabel(\"day\")\n",
    "plt.ylabel(\"Number of Tests (per 100,000) each day\")\n",
    "\n",
    "\n",
    "x_datapoints = e\n",
    "y_datapoints = [100 * r for r in R0]\n",
    "\n",
    "\n",
    "plt.scatter(x_datapoints,y_datapoints, label = \"R0 values\")\n",
    "plt.legend()"
   ]
  },
  {
   "cell_type": "code",
   "execution_count": 110,
   "id": "fd415ea5",
   "metadata": {},
   "outputs": [
    {
     "data": {
      "text/plain": [
       "<matplotlib.legend.Legend at 0x1fa0b3d0cd0>"
      ]
     },
     "execution_count": 110,
     "metadata": {},
     "output_type": "execute_result"
    },
    {
     "data": {
      "image/png": "[encoded data removed]",
      "text/plain": [
       "<Figure size 432x288 with 1 Axes>"
      ]
     },
     "metadata": {
      "needs_background": "light"
     },
     "output_type": "display_data"
    }
   ],
   "source": [
    "t = range(0,791)\n",
    "plt.plot(t, vacc, 'r', label = \"vaccinations\")\n",
    "plt.title(\"Number of People Effectively Vaccinated\")\n",
    "plt.xlabel(\"day\")\n",
    "plt.ylabel(\"Number Effectively Vaccinated (cumulative)\")\n",
    "\n",
    "\n",
    "x_datapoints = e\n",
    "y_datapoints = [(10**7) * r for r in R0]\n",
    "\n",
    "plt.scatter(x_datapoints,y_datapoints, label = \"R0 values\")\n",
    "plt.legend()"
   ]
  }
 ],
 "metadata": {
  "kernelspec": {
   "display_name": "Python 3 (ipykernel)",
   "language": "python",
   "name": "python3"
  },
  "language_info": {
   "codemirror_mode": {
    "name": "ipython",
    "version": 3
   },
   "file_extension": ".py",
   "mimetype": "text/x-python",
   "name": "python",
   "nbconvert_exporter": "python",
   "pygments_lexer": "ipython3",
   "version": "3.8.8"
  }
 },
 "nbformat": 4,
 "nbformat_minor": 5
}
